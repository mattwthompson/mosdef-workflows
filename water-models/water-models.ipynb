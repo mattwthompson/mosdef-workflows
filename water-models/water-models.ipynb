{
 "cells": [
  {
   "cell_type": "markdown",
   "metadata": {},
   "source": [
    "# Water models\n",
    "Here we will demonstrate how MoSDeF can be used to compare two different force fields; in this case, two atomistic water models"
   ]
  },
  {
   "cell_type": "code",
   "execution_count": null,
   "metadata": {},
   "outputs": [],
   "source": [
    "import mbuild as mb\n",
    "from foyer import Forcefield"
   ]
  },
  {
   "cell_type": "code",
   "execution_count": null,
   "metadata": {},
   "outputs": [],
   "source": [
    "water = mb.load('O', smiles=True)\n",
    "water.name = 'water'"
   ]
  },
  {
   "cell_type": "code",
   "execution_count": null,
   "metadata": {},
   "outputs": [],
   "source": [
    "system = mb.fill_box(compound=water, n_compounds=1000, density=993)"
   ]
  },
  {
   "cell_type": "code",
   "execution_count": null,
   "metadata": {},
   "outputs": [],
   "source": [
    "system.to_parmed(residues=['water'])"
   ]
  },
  {
   "cell_type": "code",
   "execution_count": null,
   "metadata": {},
   "outputs": [],
   "source": [
    "SPCE = Forcefield('spce.xml')\n",
    "TIP3P = Forcefield('tip3p.xml')"
   ]
  },
  {
   "cell_type": "code",
   "execution_count": null,
   "metadata": {},
   "outputs": [],
   "source": [
    "system_spce = SPCE.apply(system.to_parmed(residues=['water']))\n",
    "system_tip3p = TIP3P.apply(system.to_parmed(residues=['water']))"
   ]
  },
  {
   "cell_type": "code",
   "execution_count": null,
   "metadata": {},
   "outputs": [],
   "source": [
    "system_spce.save('water_spce.gro')\n",
    "system_spce.save('water_spce.top')\n",
    "system_tip3p.save('water_tip3p.gro')\n",
    "system_tip3p.save('water_tip3p.top')"
   ]
  },
  {
   "cell_type": "code",
   "execution_count": null,
   "metadata": {},
   "outputs": [],
   "source": [
    "!gmx grompp -c water_spce.gro -p water_spce.top -f npt.mdp -o water_spce.tpr && \\\n",
    " gmx grompp -c water_tip3p.gro -p water_tip3p.top -f npt.mdp -o water_tip3p.tpr"
   ]
  },
  {
   "cell_type": "code",
   "execution_count": null,
   "metadata": {},
   "outputs": [],
   "source": [
    "!gmx mdrun -v -deffnm water_spce && \\\n",
    " gmx mdrun -v -deffnm water_tip3p"
   ]
  },
  {
   "cell_type": "code",
   "execution_count": null,
   "metadata": {},
   "outputs": [],
   "source": [
    "import numpy as np\n",
    "import mdtraj as md\n",
    "import matplotlib.pyplot as plt\n",
    "from mpl_toolkits.axes_grid.inset_locator import InsetPosition"
   ]
  },
  {
   "cell_type": "code",
   "execution_count": null,
   "metadata": {},
   "outputs": [],
   "source": [
    "trj_spce = md.load('water_spce.xtc', top='water_spce.gro')\n",
    "trj_tip3p = md.load('water_tip3p.xtc', top='water_tip3p.gro')"
   ]
  },
  {
   "cell_type": "code",
   "execution_count": null,
   "metadata": {},
   "outputs": [],
   "source": [
    "!echo 4 | gmx energy -f water_spce.edr -o energy_spce.xvg"
   ]
  },
  {
   "cell_type": "code",
   "execution_count": null,
   "metadata": {},
   "outputs": [],
   "source": [
    "!echo 4 | gmx energy -f water_tip3p.edr -o energy_tip3p.xvg"
   ]
  },
  {
   "cell_type": "code",
   "execution_count": null,
   "metadata": {
    "scrolled": false
   },
   "outputs": [],
   "source": [
    "fig, ax = plt.subplots()\n",
    "\n",
    "for model in ['spce', 'tip3p']:\n",
    "    data = np.loadtxt(f'energy_{model}.xvg', comments=['#', '@'])\n",
    "\n",
    "    ax.plot(data[:, 0], data[:, 1], label=model)\n",
    "    axins = plt.axes([0,0,1,1])\n",
    "\n",
    "    ip = InsetPosition(ax, [0.2,0.25,0.7,0.5])\n",
    "    axins.set_axes_locator(ip)\n",
    "\n",
    "    axins.plot(data[100:, 0], data[100:, 1])\n",
    "\n",
    "ax.legend(loc=0)\n",
    "ax.set_xlabel('Time, ps')\n",
    "ax.set_ylabel('Potential energy, kJ/mol')"
   ]
  },
  {
   "cell_type": "code",
   "execution_count": null,
   "metadata": {},
   "outputs": [],
   "source": [
    "fig, ax = plt.subplots()\n",
    "\n",
    "for model in ['spce', 'tip3p']:\n",
    "    trj = md.load(\n",
    "        f'water_{model}.xtc',\n",
    "        top=f'water_{model}.gro',\n",
    "    )\n",
    "\n",
    "    rho = md.density(trj)\n",
    "\n",
    "    ax.plot(trj.time, rho, label=model)\n",
    "    axins = plt.axes([0,0,1,1])\n",
    "\n",
    "    ip = InsetPosition(ax, [0.2,0.3,0.7,0.4])\n",
    "    axins.set_axes_locator(ip)\n",
    "\n",
    "    axins.plot(trj.time[100:], rho[100:])\n",
    "\n",
    "ax.legend(loc='lower right')\n",
    "ax.set_xlabel('Time, ps')\n",
    "ax.set_ylabel('Density, kg/m^3')"
   ]
  },
  {
   "cell_type": "code",
   "execution_count": null,
   "metadata": {
    "scrolled": true
   },
   "outputs": [],
   "source": [
    "fig, ax = plt.subplots()\n",
    "\n",
    "for model in ['spce', 'tip3p']:\n",
    "    trj = md.load(\n",
    "        f'water_{model}.xtc',\n",
    "        top=f'water_{model}.gro',\n",
    "    )\n",
    "\n",
    "    pairs = trj.top.select_pairs('name O', 'name O')\n",
    "\n",
    "    r, g_r = md.compute_rdf(trj[100:], pairs)\n",
    "\n",
    "    plt.plot(r, g_r, label=model)\n",
    "\n",
    "ax.legend()\n",
    "ax.set_xlabel('Interatomic separation, r')\n",
    "ax.set_ylabel('Pair distribution function, unitless')"
   ]
  }
 ],
 "metadata": {
  "kernelspec": {
   "display_name": "Python 3",
   "language": "python",
   "name": "python3"
  },
  "language_info": {
   "codemirror_mode": {
    "name": "ipython",
    "version": 3
   },
   "file_extension": ".py",
   "mimetype": "text/x-python",
   "name": "python",
   "nbconvert_exporter": "python",
   "pygments_lexer": "ipython3",
   "version": "3.7.6"
  }
 },
 "nbformat": 4,
 "nbformat_minor": 2
}
