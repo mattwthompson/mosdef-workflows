{
 "cells": [
  {
   "cell_type": "markdown",
   "metadata": {},
   "source": [
    "# Water models\n",
    "Here we will demonstrate how MoSDeF can be used to compare two different force fields; in this case, two atomistic water models"
   ]
  },
  {
   "cell_type": "code",
   "execution_count": null,
   "metadata": {},
   "outputs": [],
   "source": [
    "import mbuild as mb\n",
    "from foyer import Forcefield"
   ]
  },
  {
   "cell_type": "code",
   "execution_count": null,
   "metadata": {},
   "outputs": [],
   "source": [
    "water = mb.load('O', smiles=True)\n",
    "water.name = 'water'"
   ]
  },
  {
   "cell_type": "code",
   "execution_count": null,
   "metadata": {},
   "outputs": [],
   "source": [
    "system = mb.fill_box(compound=water, n_compounds=1000, density=993)"
   ]
  },
  {
   "cell_type": "code",
   "execution_count": null,
   "metadata": {},
   "outputs": [],
   "source": [
    "system.to_parmed(residues=['water'])"
   ]
  },
  {
   "cell_type": "code",
   "execution_count": null,
   "metadata": {},
   "outputs": [],
   "source": [
    "SPCE = Forcefield('spce.xml')\n",
    "TIP3P = Forcefield('tip3p.xml')"
   ]
  },
  {
   "cell_type": "code",
   "execution_count": null,
   "metadata": {},
   "outputs": [],
   "source": [
    "system_spce = SPCE.apply(system.to_parmed(residues=['water']))\n",
    "system_tip3p = TIP3P.apply(system.to_parmed(residues=['water']))"
   ]
  },
  {
   "cell_type": "code",
   "execution_count": null,
   "metadata": {},
   "outputs": [],
   "source": [
    "system_spce.save('water_spce.gro')\n",
    "system_spce.save('water_spce.top')\n",
    "system_tip3p.save('water_tip3p.gro')\n",
    "system_tip3p.save('water_tip3p.top')"
   ]
  },
  {
   "cell_type": "code",
   "execution_count": 1,
   "metadata": {},
   "outputs": [
    {
     "name": "stdout",
     "output_type": "stream",
     "text": [
      "    :-) GROMACS - gmx grompp, 2020-beta1-dev-20191030-7aad04af46-unknown (-:\r\n",
      "\r\n",
      "                            GROMACS is written by:\r\n",
      "     Emile Apol      Rossen Apostolov      Paul Bauer     Herman J.C. Berendsen\r\n",
      "    Par Bjelkmar      Christian Blau   Viacheslav Bolnykh     Kevin Boyd    \r\n",
      " Aldert van Buuren   Rudi van Drunen     Anton Feenstra       Alan Gray     \r\n",
      "  Gerrit Groenhof     Anca Hamuraru    Vincent Hindriksen  M. Eric Irrgang  \r\n",
      "  Aleksei Iupinov   Christoph Junghans     Joe Jordan     Dimitrios Karkoulis\r\n",
      "    Peter Kasson        Jiri Kraus      Carsten Kutzner      Per Larsson    \r\n",
      "  Justin A. Lemkul    Viveca Lindahl    Magnus Lundborg     Erik Marklund   \r\n",
      "    Pascal Merz     Pieter Meulenhoff    Teemu Murtola       Szilard Pall   \r\n",
      "    Sander Pronk      Roland Schulz      Michael Shirts    Alexey Shvetsov  \r\n",
      "   Alfons Sijbers     Peter Tieleman      Jon Vincent      Teemu Virolainen \r\n",
      " Christian Wennberg    Maarten Wolf      Artem Zhmurov   \r\n",
      "                           and the project leaders:\r\n",
      "        Mark Abraham, Berk Hess, Erik Lindahl, and David van der Spoel\r\n",
      "\r\n",
      "Copyright (c) 1991-2000, University of Groningen, The Netherlands.\r\n",
      "Copyright (c) 2001-2019, The GROMACS development team at\r\n",
      "Uppsala University, Stockholm University and\r\n",
      "the Royal Institute of Technology, Sweden.\r\n",
      "check out http://www.gromacs.org for more information.\r\n",
      "\r\n",
      "GROMACS is free software; you can redistribute it and/or modify it\r\n",
      "under the terms of the GNU Lesser General Public License\r\n",
      "as published by the Free Software Foundation; either version 2.1\r\n",
      "of the License, or (at your option) any later version.\r\n",
      "\r\n",
      "GROMACS:      gmx grompp, version 2020-beta1-dev-20191030-7aad04af46-unknown\r\n",
      "Executable:   /usr/local/gromacs/bin/gmx\r\n",
      "Data prefix:  /usr/local/gromacs\r\n",
      "Working dir:  /Users/mwt/software/mosdef-workflows/water-models\r\n",
      "Command line:\r\n",
      "  gmx grompp -c water_spce.gro -p water_spce.top -f npt.mdp -o water_spce.tpr\r\n",
      "\r\n",
      "Ignoring obsolete mdp entry 'ns_type'\r\n",
      "Replacing old mdp entry 'nstxtcout' by 'nstxout-compressed'\r\n",
      "\r\n",
      "NOTE 1 [file npt.mdp]:\r\n",
      "  You have set rlist larger than the interaction cut-off, but you also have\r\n",
      "  verlet-buffer-tolerance > 0. Will set rlist using verlet-buffer-tolerance.\r\n",
      "\r\n",
      "\r\n",
      "NOTE 2 [file npt.mdp]:\r\n",
      "  leapfrog does not yet support Nose-Hoover chains, nhchainlength reset to 1\r\n",
      "\r\n",
      "Setting the LD random seed to 1747031675\r\n",
      "Generated 3 of the 3 non-bonded parameter combinations\r\n",
      "Generating 1-4 interactions: fudge = 1\r\n",
      "Generated 3 of the 3 1-4 parameter combinations\r\n",
      "Excluding 3 bonded neighbours molecule type 'water'\r\n",
      "turning H bonds into constraints...\r\n",
      "Analysing residue names:\r\n",
      "There are:  1000      Other residues\r\n",
      "Analysing residues not classified as Protein/DNA/RNA/Water and splitting into groups...\r\n",
      "Number of degrees of freedom in T-Coupling group System is 5997.00\r\n",
      "Determining Verlet buffer for a tolerance of 0.005 kJ/mol/ps at 300 K\r\n",
      "Calculated rlist for 1x1 atom pair-list as 0.912 nm, buffer size 0.012 nm\r\n",
      "Set rlist, assuming 4x4 atom pair-list, to 0.900 nm, buffer size 0.000 nm\r\n",
      "Note that mdrun will redetermine rlist based on the actual pair-list setup\r\n",
      "\r\n",
      "WARNING 1 [file npt.mdp]:\r\n",
      "  With Nose-Hoover T-coupling and Parrinello-Rahman p-coupling, tau-p (1)\r\n",
      "  should be at least twice as large as tau-t (1) to avoid resonances\r\n",
      "\r\n",
      "Calculating fourier grid dimensions for X Y Z\r\n",
      "Using a fourier grid of 28x28x28, spacing 0.111 0.111 0.111\r\n",
      "Estimate for the relative computational load of the PME mesh part: 0.31\r\n",
      "This run will generate roughly 19 Mb of data\r\n",
      "\r\n",
      "There were 2 notes\r\n",
      "\r\n",
      "There was 1 warning\r\n",
      "\r\n",
      "-------------------------------------------------------\r\n",
      "Program:     gmx grompp, version 2020-beta1-dev-20191030-7aad04af46-unknown\r\n",
      "Source file: src/gromacs/gmxpreprocess/grompp.cpp (line 2337)\r\n",
      "\r\n",
      "Fatal error:\r\n",
      "Too many warnings (1).\r\n",
      "If you are sure all warnings are harmless, use the -maxwarn option.\r\n",
      "\r\n",
      "For more information and tips for troubleshooting, please check the GROMACS\r\n",
      "website at http://www.gromacs.org/Documentation/Errors\r\n",
      "-------------------------------------------------------\r\n"
     ]
    }
   ],
   "source": [
    "!gmx grompp -c water_spce.gro -p water_spce.top -f npt.mdp -o water_spce.tpr && \\\n",
    " gmx grompp -c water_tip3p.gro -p water_tip3p.top -f npt.mdp -o water_tip3p.tpr"
   ]
  },
  {
   "cell_type": "code",
   "execution_count": null,
   "metadata": {},
   "outputs": [],
   "source": [
    "!gmx mdrun -v -deffnm water_spce && \\\n",
    " gmx mdrun -v -deffnm water_tip3p"
   ]
  },
  {
   "cell_type": "code",
   "execution_count": null,
   "metadata": {},
   "outputs": [],
   "source": [
    "import numpy as np\n",
    "import mdtraj as md\n",
    "import matplotlib.pyplot as plt\n",
    "from mpl_toolkits.axes_grid.inset_locator import InsetPosition"
   ]
  },
  {
   "cell_type": "code",
   "execution_count": null,
   "metadata": {},
   "outputs": [],
   "source": [
    "trj_spce = md.load('water_spce.xtc', top='water_spce.gro')\n",
    "trj_tip3p = md.load('water_tip3p.xtc', top='water_tip3p.gro')"
   ]
  },
  {
   "cell_type": "code",
   "execution_count": null,
   "metadata": {},
   "outputs": [],
   "source": [
    "!echo 4 | gmx energy -f water_spce.edr -o energy_spce.xvg"
   ]
  },
  {
   "cell_type": "code",
   "execution_count": null,
   "metadata": {},
   "outputs": [],
   "source": [
    "!echo 4 | gmx energy -f water_tip3p.edr -o energy_tip3p.xvg"
   ]
  },
  {
   "cell_type": "code",
   "execution_count": null,
   "metadata": {
    "scrolled": false
   },
   "outputs": [],
   "source": [
    "fig, ax = plt.subplots()\n",
    "\n",
    "for model in ['spce', 'tip3p']:\n",
    "    data = np.loadtxt(f'energy_{model}.xvg', comments=['#', '@'])\n",
    "\n",
    "    ax.plot(data[:, 0], data[:, 1])\n",
    "    axins = plt.axes([0,0,1,1])\n",
    "\n",
    "    ip = InsetPosition(ax, [0.2,0.2,0.7,0.7])\n",
    "    axins.set_axes_locator(ip)\n",
    "\n",
    "    axins.plot(data[100:, 0], data[100:, 1])"
   ]
  },
  {
   "cell_type": "code",
   "execution_count": null,
   "metadata": {},
   "outputs": [],
   "source": [
    "fig, ax = plt.subplots()\n",
    "\n",
    "for model in ['spce', 'tip3p']:\n",
    "    trj = md.load(\n",
    "        f'water_{model}.xtc',\n",
    "        top=f'water_{model}.gro',\n",
    "    )\n",
    "\n",
    "    rho = md.density(trj)\n",
    "\n",
    "    ax.plot(trj.time, rho)\n",
    "    axins = plt.axes([0,0,1,1])\n",
    "\n",
    "    ip = InsetPosition(ax, [0.2,0.2,0.7,0.7])\n",
    "    axins.set_axes_locator(ip)\n",
    "\n",
    "    axins.plot(trj.time[100:], rho[100:])"
   ]
  },
  {
   "cell_type": "code",
   "execution_count": null,
   "metadata": {},
   "outputs": [],
   "source": [
    "pairs = trj.top.select_pairs('name O', 'name O')\n",
    "r, g_r = md.compute_rdf(trj, pairs)"
   ]
  },
  {
   "cell_type": "code",
   "execution_count": null,
   "metadata": {
    "scrolled": true
   },
   "outputs": [],
   "source": [
    "fig, ax = plt.subplots()\n",
    "\n",
    "for model in ['spce', 'tip3p']:\n",
    "    trj = md.load(\n",
    "        f'water_{model}.xtc',\n",
    "        top=f'water_{model}.gro',\n",
    "    )\n",
    "\n",
    "    pairs = trj.top.select_pairs('name O', 'name O')\n",
    "\n",
    "    r, g_r = md.compute_rdf(trj[100:], pairs)\n",
    "\n",
    "    plt.plot(r, g_r)"
   ]
  }
 ],
 "metadata": {
  "kernelspec": {
   "display_name": "Python 3",
   "language": "python",
   "name": "python3"
  },
  "language_info": {
   "codemirror_mode": {
    "name": "ipython",
    "version": 3
   },
   "file_extension": ".py",
   "mimetype": "text/x-python",
   "name": "python",
   "nbconvert_exporter": "python",
   "pygments_lexer": "ipython3",
   "version": "3.7.6"
  }
 },
 "nbformat": 4,
 "nbformat_minor": 2
}
