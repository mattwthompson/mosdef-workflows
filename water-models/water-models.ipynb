{
 "cells": [
  {
   "cell_type": "markdown",
   "metadata": {},
   "source": [
    "# Water models\n",
    "Here we will demonstrate how MoSDeF can be used to compare two different force fields; in this case, two atomistic water models"
   ]
  },
  {
   "cell_type": "code",
   "execution_count": null,
   "metadata": {},
   "outputs": [],
   "source": [
    "import mbuild as mb\n",
    "from foyer import Forcefield"
   ]
  },
  {
   "cell_type": "code",
   "execution_count": null,
   "metadata": {},
   "outputs": [],
   "source": [
    "water = mb.load('O', smiles=True)\n",
    "water.name = 'water'"
   ]
  },
  {
   "cell_type": "code",
   "execution_count": null,
   "metadata": {},
   "outputs": [],
   "source": [
    "system = mb.fill_box(compound=water, n_compounds=1000, density=993)"
   ]
  },
  {
   "cell_type": "code",
   "execution_count": null,
   "metadata": {},
   "outputs": [],
   "source": [
    "system.to_parmed(residues=['water'])"
   ]
  },
  {
   "cell_type": "code",
   "execution_count": null,
   "metadata": {},
   "outputs": [],
   "source": [
    "SPCE = Forcefield('spce.xml')\n",
    "TIP3P = Forcefield('tip3p.xml')"
   ]
  },
  {
   "cell_type": "code",
   "execution_count": null,
   "metadata": {},
   "outputs": [],
   "source": [
    "system_spce = SPCE.apply(system.to_parmed(residues=['water']))\n",
    "system_tip3p = TIP3P.apply(system.to_parmed(residues=['water']))"
   ]
  },
  {
   "cell_type": "code",
   "execution_count": null,
   "metadata": {},
   "outputs": [],
   "source": [
    "system_spce.save('water_spce.gro')\n",
    "system_spce.save('water_spce.top')\n",
    "system_tip3p.save('water_tip3p.gro')\n",
    "system_tip3p.save('water_tip3p.top')"
   ]
  },
  {
   "cell_type": "code",
   "execution_count": null,
   "metadata": {},
   "outputs": [],
   "source": [
    "!gmx grompp -c water_spce.gro -p water_spce.top -f npt.mdp -o water_spce.tpr"
   ]
  },
  {
   "cell_type": "code",
   "execution_count": null,
   "metadata": {},
   "outputs": [],
   "source": [
    "!gmx mdrun -v -deffnm water_spce"
   ]
  },
  {
   "cell_type": "code",
   "execution_count": null,
   "metadata": {},
   "outputs": [],
   "source": [
    "import numpy as np\n",
    "import mdtraj as md\n",
    "import matplotlib.pyplot as plt\n",
    "from mpl_toolkits.axes_grid.inset_locator import InsetPosition"
   ]
  },
  {
   "cell_type": "code",
   "execution_count": null,
   "metadata": {},
   "outputs": [],
   "source": [
    "trj = md.load('water_spce.xtc', top='water_spce.gro')"
   ]
  },
  {
   "cell_type": "code",
   "execution_count": null,
   "metadata": {},
   "outputs": [],
   "source": [
    "!echo 4 | gmx energy -f water_spce.edr"
   ]
  },
  {
   "cell_type": "code",
   "execution_count": null,
   "metadata": {},
   "outputs": [],
   "source": [
    "from mpl_toolkits.axes_grid.inset_locator import InsetPosition\n",
    "\n",
    "data = np.loadtxt('energy.xvg', comments=['#', '@'])\n",
    "\n",
    "fig, ax = plt.subplots()\n",
    "\n",
    "ax.plot(data[:, 0], data[:, 1])\n",
    "axins = plt.axes([0,0,1,1])\n",
    "\n",
    "ip = InsetPosition(ax, [0.2,0.2,0.7,0.7])\n",
    "axins.set_axes_locator(ip)\n",
    "\n",
    "axins.plot(data[100:, 0], data[100:, 1])"
   ]
  }
 ],
 "metadata": {
  "kernelspec": {
   "display_name": "Python 3",
   "language": "python",
   "name": "python3"
  },
  "language_info": {
   "codemirror_mode": {
    "name": "ipython",
    "version": 3
   },
   "file_extension": ".py",
   "mimetype": "text/x-python",
   "name": "python",
   "nbconvert_exporter": "python",
   "pygments_lexer": "ipython3",
   "version": "3.7.6"
  }
 },
 "nbformat": 4,
 "nbformat_minor": 2
}
